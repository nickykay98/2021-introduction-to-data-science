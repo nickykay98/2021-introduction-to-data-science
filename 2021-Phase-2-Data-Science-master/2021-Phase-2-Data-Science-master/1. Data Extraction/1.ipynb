{
 "cells": [
  {
   "cell_type": "code",
   "execution_count": 1,
   "source": [
    "import requests\r\n",
    "from bs4 import BeautifulSoup\r\n",
    "import re # regex, for analysing URLs\r\n",
    "import pandas as pd\r\n",
    "import numpy as np\r\n",
    "import itertools"
   ],
   "outputs": [],
   "metadata": {}
  },
  {
   "cell_type": "code",
   "execution_count": 4,
   "source": [
    "url = '''https://www.imdb.com/search/title/?title_type=feature&groups=top_100&sort=user_rating,desc&count=100'''\r\n",
    "response = requests.get(url)\r\n",
    "movies_soup = BeautifulSoup(response.text, 'html.parser')\r\n",
    "print(movies_soup)"
   ],
   "outputs": [],
   "metadata": {}
  },
  {
   "cell_type": "code",
   "execution_count": 6,
   "source": [
    "# Get all the <a> tag without a class\r\n",
    "movie_tags = movies_soup.find_all('a', attrs={'class': None})\r\n",
    "# Filter the a-tags to get just the titles\r\n",
    "movie_tags = [tag.attrs['href'] for tag in movie_tags \r\n",
    "              if tag.attrs['href'].startswith('/title') & tag.attrs['href'].endswith('/')]\r\n",
    "# Remove duplicate links\r\n",
    "movie_tags = list(dict.fromkeys(movie_tags))\r\n",
    "\r\n",
    "print(\"In total we have \" + str(len(movie_tags)) + \" movie titles\") # Comment out afterwards\r\n",
    "print(\"Displaying 10 titles\") # Comment out afterwards\r\n",
    "print(movie_tags[:10]) # Comment out afterwards"
   ],
   "outputs": [
    {
     "output_type": "stream",
     "name": "stdout",
     "text": [
      "In total we have 100 movie titles\n",
      "Displaying 10 titles\n",
      "['/title/tt0111161/', '/title/tt0068646/', '/title/tt0468569/', '/title/tt0071562/', '/title/tt0050083/', '/title/tt0167260/', '/title/tt0110912/', '/title/tt0108052/', '/title/tt1375666/', '/title/tt0137523/']\n"
     ]
    }
   ],
   "metadata": {}
  },
  {
   "cell_type": "code",
   "execution_count": 7,
   "source": [
    "base_url = \"https://www.imdb.com\"\r\n",
    "# Get movie links with reviews\r\n",
    "movie_links = [base_url + tag + 'reviews' for tag in movie_tags]\r\n",
    "print(\"In total we have \" + str(len(movie_links)) + \" movie user reviews\") # Comment out afterwards\r\n",
    "print(\"Displaying 10 user reviews links\") # Comment out afterwards\r\n",
    "print(movie_links[:10]) # Comment out afterwards"
   ],
   "outputs": [
    {
     "output_type": "stream",
     "name": "stdout",
     "text": [
      "In total we have 100 movie user reviews\n",
      "Displaying 10 user reviews links\n",
      "['https://www.imdb.com/title/tt0111161/reviews', 'https://www.imdb.com/title/tt0068646/reviews', 'https://www.imdb.com/title/tt0468569/reviews', 'https://www.imdb.com/title/tt0071562/reviews', 'https://www.imdb.com/title/tt0050083/reviews', 'https://www.imdb.com/title/tt0167260/reviews', 'https://www.imdb.com/title/tt0110912/reviews', 'https://www.imdb.com/title/tt0108052/reviews', 'https://www.imdb.com/title/tt1375666/reviews', 'https://www.imdb.com/title/tt0137523/reviews']\n"
     ]
    }
   ],
   "metadata": {}
  },
  {
   "cell_type": "code",
   "execution_count": 8,
   "source": [
    "# Create a helper function to get review links\r\n",
    "def getReview(soup):\r\n",
    "    # Get all the review tags\r\n",
    "    user_review_list = soup.find_all('a', attrs={'class':'title'})\r\n",
    "    # Get the first review tag - in assignment, can get first chapter/last chapter etc\r\n",
    "    review_tag = user_review_list[0]\r\n",
    "    # Return the none review link\r\n",
    "    review_link = \"https://www.imdb.com\" + review_tag['href']\r\n",
    "    return review_link\r\n",
    "\r\n",
    "# Get a list of soup objects. This takes a while\r\n",
    "movie_review_soups = [BeautifulSoup(requests.get(link).text, 'html.parser') for link in movie_links]\r\n",
    "# Get all 100 movie review links\r\n",
    "movie_review_list = [getReview(movie_review_soup) for movie_review_soup in movie_review_soups]\r\n",
    "\r\n",
    "print(\"There are a total of \" + str(len(movie_review_list)) + \" individual movie reviews\") # Comment out afterwards\r\n",
    "print(\"Displaying 10 reviews\") # Comment out afterwards\r\n",
    "print(movie_review_list[:10]) # Comment out afterwards\r\n",
    "\r\n",
    "# above takes long to run because you're requesting from 100 links in BeautifulSoup(requests.get(link).text"
   ],
   "outputs": [
    {
     "output_type": "stream",
     "name": "stdout",
     "text": [
      "There are a total of 100 individual movie reviews\n",
      "Displaying 10 reviews\n",
      "['https://www.imdb.com/review/rw0349418/', 'https://www.imdb.com/review/rw3038370/', 'https://www.imdb.com/review/rw6467314/', 'https://www.imdb.com/review/rw0135607/', 'https://www.imdb.com/review/rw4801155/', 'https://www.imdb.com/review/rw5045294/', 'https://www.imdb.com/review/rw1218264/', 'https://www.imdb.com/review/rw0328197/', 'https://www.imdb.com/review/rw4692192/', 'https://www.imdb.com/review/rw5006989/']\n"
     ]
    }
   ],
   "metadata": {}
  },
  {
   "cell_type": "code",
   "execution_count": 9,
   "source": [
    "# Create lists for dataframe and csv later\r\n",
    "review_texts = []\r\n",
    "movie_titles = []\r\n",
    "\r\n",
    "# Loop through the movie reviews\r\n",
    "for url in movie_review_list:\r\n",
    "    # Get the review page\r\n",
    "    soup = BeautifulSoup(requests.get(url).text, 'html.parser')\r\n",
    "    # Find div tags with class text show-more__control, then get its text\r\n",
    "    review_tag = soup.find('div', attrs={'class': 'text show-more__control'}).getText()\r\n",
    "    # Add the review text in the review list\r\n",
    "    review_texts += [review_tag]\r\n",
    "    # Find the h1 tag and get the second element i.e. the title\r\n",
    "    title_tag = list(soup.find('h1').children)[1].getText()\r\n",
    "    # Add the title in the title list\r\n",
    "    movie_titles += [title_tag]"
   ],
   "outputs": [],
   "metadata": {}
  },
  {
   "cell_type": "code",
   "execution_count": 10,
   "source": [
    "# Construct a dataframe\r\n",
    "df = pd.DataFrame({'movie': movie_titles, 'user_review_permalink': movie_review_list,'user_review': review_texts})\r\n",
    "# Put into .csv file\r\n",
    "df.to_csv('userReviews.csv', index=False)"
   ],
   "outputs": [],
   "metadata": {}
  }
 ],
 "metadata": {
  "orig_nbformat": 4,
  "language_info": {
   "name": "python",
   "version": "3.9.6",
   "mimetype": "text/x-python",
   "codemirror_mode": {
    "name": "ipython",
    "version": 3
   },
   "pygments_lexer": "ipython3",
   "nbconvert_exporter": "python",
   "file_extension": ".py"
  },
  "kernelspec": {
   "name": "python3",
   "display_name": "Python 3.9.6 64-bit ('venv')"
  },
  "interpreter": {
   "hash": "c2efe957cf3b2ef82c45a23ebddb5bf2eaaea2ad4fd3db4a35b02391cee243cb"
  }
 },
 "nbformat": 4,
 "nbformat_minor": 2
}